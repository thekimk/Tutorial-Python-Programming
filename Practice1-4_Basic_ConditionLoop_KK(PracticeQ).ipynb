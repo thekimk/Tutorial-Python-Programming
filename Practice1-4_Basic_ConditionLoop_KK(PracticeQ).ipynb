{
 "cells": [
  {
   "cell_type": "code",
   "execution_count": 1,
   "metadata": {
    "ExecuteTime": {
     "end_time": "2022-04-04T04:08:39.255453Z",
     "start_time": "2022-04-04T04:08:39.221453Z"
    },
    "execution": {
     "iopub.execute_input": "2025-09-05T08:55:52.164325Z",
     "iopub.status.busy": "2025-09-05T08:55:52.164325Z",
     "iopub.status.idle": "2025-09-05T08:55:52.174424Z",
     "shell.execute_reply": "2025-09-05T08:55:52.174424Z",
     "shell.execute_reply.started": "2025-09-05T08:55:52.164325Z"
    }
   },
   "outputs": [
    {
     "name": "stdout",
     "output_type": "stream",
     "text": [
      "Intel64 Family 6 Model 186 Stepping 2, GenuineIntel\n",
      "32(GB)\n",
      "Windows\n",
      "10.0.26100\n",
      "C:\\DataScience\\Lecture\\[DataScience]\n",
      "2024-12-12 00:34:16.155373\n",
      "2025-09-05 17:55:26.446273\n",
      "2025-09-05 17:55:26.446273\n",
      "2025-09-05 17:55:52.172325\n",
      "다음 출력을 파일명으로 설정하고 제출하시오: 김경원_20211011_비즈니스혁신을위한데이터사이언스응용_1반_ConditionLoopQ\n"
     ]
    }
   ],
   "source": [
    "# 반드시 이 cell을 실행하시오\n",
    "# 실행하지 않을 시 직접 하지 않은 것으로 간주\n",
    "# 마지막 줄 출력으로 파일명을 설정하고 제출 필수\n",
    "import platform, psutil, os, datetime\n",
    "print(platform.processor())\n",
    "print(str(round(psutil.virtual_memory().total / (1024.0 **3)))+\"(GB)\")\n",
    "print(platform.system())\n",
    "print(platform.version())\n",
    "print(os.getcwd())\n",
    "print(datetime.datetime.fromtimestamp(os.path.getctime(os.getcwd())))\n",
    "print(datetime.datetime.fromtimestamp(os.path.getmtime(os.getcwd())))\n",
    "print(datetime.datetime.fromtimestamp(os.path.getatime(os.getcwd())))\n",
    "print(datetime.datetime.now())\n",
    "title = 'ConditionLoopQ'    # 고정값\n",
    "name = '김경원'    # 본인 이름을 작성\n",
    "studentid = '20211011'    # 본인 학번을 작성\n",
    "course = '비즈니스혁신을위한데이터사이언스응용'    # 'E정보시스템', 'E데이터베이스', '빅데이터', \n",
    "                          # '비즈니스혁신을위한데이터사이언스응용', '인공지능활용디지털경제플랫폼연구'\n",
    "course_number = '1반'    #  학수번호 끝자리 (아래 예시)\n",
    "                         # E정보시스템 (0003853001) => 1반\n",
    "                         # E정보시스템 (0003853001) => 2반\n",
    "                         # E데이터베이스 (0003854001) => 1반\n",
    "                         # E데이터베이스 (0003854002) => 2반\n",
    "                         # 빅데이터 (0006718001) => 1반\n",
    "                         # 비즈니스혁신을위한데이터사이언스응용 (1002667001) => 1반\n",
    "print('다음 출력을 파일명으로 설정하고 제출하시오:', name + '_' + studentid + '_' + course + '_' + course_number + '_' + title)"
   ]
  },
  {
   "cell_type": "markdown",
   "metadata": {},
   "source": [
    "- **Question:** 아래 코드에서 x가 짝수일때 `ok`가 출력되도록 하시오\n",
    "\n",
    "```python\n",
    "x = 10\n",
    "\n",
    "if __________:\n",
    "    print(____)\n",
    "```"
   ]
  },
  {
   "cell_type": "code",
   "execution_count": null,
   "metadata": {
    "ExecuteTime": {
     "end_time": "2021-10-06T06:26:32.706250Z",
     "start_time": "2021-10-06T06:26:32.695862Z"
    }
   },
   "outputs": [],
   "source": [
    "\n"
   ]
  },
  {
   "cell_type": "markdown",
   "metadata": {},
   "source": [
    "- **Question:** 필기 시험 점수가 80점 이상이며 동시에 코딩 시험을 통과(True)하면 합격인 아래의 조건식을 완성하여 합격/불합격 여부를 출력하시오\n",
    "\n",
    "```python\n",
    "written_test = 75\n",
    "coding_test = True\n",
    "\n",
    "if ________________:\n",
    "    print('합격')\n",
    "else:\n",
    "    print('불합격')\n",
    "```"
   ]
  },
  {
   "cell_type": "code",
   "execution_count": 2,
   "metadata": {
    "ExecuteTime": {
     "end_time": "2022-04-03T14:27:49.498077Z",
     "start_time": "2022-04-03T14:27:49.484044Z"
    },
    "execution": {
     "iopub.execute_input": "2025-09-05T08:55:52.176431Z",
     "iopub.status.busy": "2025-09-05T08:55:52.176431Z",
     "iopub.status.idle": "2025-09-05T08:55:52.183556Z",
     "shell.execute_reply": "2025-09-05T08:55:52.182548Z",
     "shell.execute_reply.started": "2025-09-05T08:55:52.176431Z"
    }
   },
   "outputs": [],
   "source": [
    "written_test = 75\n",
    "coding_test = True\n",
    "\n",
    "# 불합격 출력\n",
    "\n"
   ]
  },
  {
   "cell_type": "markdown",
   "metadata": {},
   "source": [
    "- **Question:** 세개의 숫자를 입력(input)받아 `num1, num2, num3`이라는 변수에 저장한 후, 조건문을 사용하여 3개의 숫자를 비교해 가장 큰 숫자를 출력하는 프로그램을 만드시오\n",
    "\n",
    "```python\n",
    "# 예시\n",
    "# 숫자 입력\n",
    "num1 = \n",
    "num2 = \n",
    "num3 = \n",
    "\n",
    "# 프로그램\n",
    "\n",
    "# 출력\n",
    "(num1, num2, num3 중 가장 큰 숫자)\n",
    "```"
   ]
  },
  {
   "cell_type": "code",
   "execution_count": null,
   "metadata": {
    "ExecuteTime": {
     "end_time": "2022-04-03T14:27:49.513042Z",
     "start_time": "2022-04-03T14:27:49.499042Z"
    }
   },
   "outputs": [],
   "source": [
    "\n"
   ]
  },
  {
   "cell_type": "markdown",
   "metadata": {},
   "source": [
    "- **Question:** 조건문을 사용하여 1~9999 까지의 숫자 중 하나가 입력(`input` 함수 사용)되면, 몇 자리의 숫자인지 판별하는 App 프로그램을 만들어 보시오. 1) 테스트로 셀을 실행 후 10을 입력하였을 때 `두 자리 숫자입니다`를 출력하고, 2) 셀을 실행 후 999를 입력하였을 때 `세 자리 숫자입니다`를 출력하시오\n",
    "\n",
    "```python\n",
    "# 예시\n",
    "# input 함수를 사용해서 10을 입력\n",
    "num = \n",
    "\n",
    "# 프로그램\n",
    "\n",
    "# 출력\n",
    "`두 자리 숫자입니다`\n",
    "```"
   ]
  },
  {
   "cell_type": "code",
   "execution_count": 3,
   "metadata": {
    "ExecuteTime": {
     "end_time": "2022-04-03T14:27:49.558077Z",
     "start_time": "2022-04-03T14:27:49.544044Z"
    },
    "execution": {
     "iopub.execute_input": "2025-09-05T08:55:52.184556Z",
     "iopub.status.busy": "2025-09-05T08:55:52.184556Z",
     "iopub.status.idle": "2025-09-05T08:55:52.191555Z",
     "shell.execute_reply": "2025-09-05T08:55:52.191555Z",
     "shell.execute_reply.started": "2025-09-05T08:55:52.184556Z"
    }
   },
   "outputs": [],
   "source": [
    "# 1)\n",
    "\n"
   ]
  },
  {
   "cell_type": "code",
   "execution_count": 4,
   "metadata": {
    "ExecuteTime": {
     "end_time": "2022-04-03T14:27:49.573074Z",
     "start_time": "2022-04-03T14:27:49.559064Z"
    },
    "execution": {
     "iopub.execute_input": "2025-09-05T08:55:52.194997Z",
     "iopub.status.busy": "2025-09-05T08:55:52.194997Z",
     "iopub.status.idle": "2025-09-05T08:55:52.200417Z",
     "shell.execute_reply": "2025-09-05T08:55:52.200417Z",
     "shell.execute_reply.started": "2025-09-05T08:55:52.194997Z"
    }
   },
   "outputs": [],
   "source": [
    "# 2)\n",
    "\n"
   ]
  },
  {
   "cell_type": "markdown",
   "metadata": {},
   "source": [
    "- **Question:** 시험점수가 90점 이상인 학생에게는 `A`, 80점 이상인 학생에게는 `B`, 59점 이하인 학생에게는 `F`를 부여합니다. 이 모든 경우에 해당하지 않는 경우는 `C`를 부여하는 성적 출력 App 프로그램을 만들고 아래 예시처럼 실행하여 어떤 학점이 출력되는지 확인하시오\n",
    "\n",
    "```python\n",
    "# 예시\n",
    "# input 함수를 사용해서 75점을 입력\n",
    "score = \n",
    "\n",
    "# 프로그램\n",
    "\n",
    "# 출력\n",
    "'A' or 'B' or 'C' or 'F'\n",
    "```"
   ]
  },
  {
   "cell_type": "code",
   "execution_count": null,
   "metadata": {},
   "outputs": [],
   "source": [
    "\n"
   ]
  },
  {
   "cell_type": "markdown",
   "metadata": {},
   "source": [
    "- **Question:** 휴대폰 번호의 앞자리에 따라 통신사의 종류는 아래와 같이 달라질 수 있다. 임의의 전화번호('010-1234-5678')를 입력받아 통신사를 출력하는 프로그램을 작성하시오\n",
    "\n",
    "| 번호 | 통신사 |\n",
    "|---|---|\n",
    "| 011 | SKT |\n",
    "| 016 | KT |\n",
    "| 019 | LGU |\n",
    "| 010 | 공용 |\n",
    "\n",
    "```python\n",
    "# 예시\n",
    "number = \n",
    "\n",
    "# 프로그램\n",
    "\n",
    "# 출력\n",
    "'공용'\n",
    "```"
   ]
  },
  {
   "cell_type": "code",
   "execution_count": null,
   "metadata": {},
   "outputs": [],
   "source": [
    "\n"
   ]
  },
  {
   "cell_type": "markdown",
   "metadata": {},
   "source": [
    "- **Question:** 아래코드는 임의의 암호화페 데이터를 딕셔너리 형태로 불러오는 코드이다. 최고가(`max_price`)와 최저가(`min_price`)의 차이를 변동성이라고 할 때, 24시간 평균 변화(`fluctate_24H`)보다 크면 `상승경기` 그렇지 않은 경우 `하락경기`를 출력하라\n",
    "\n",
    "```python\n",
    "import requests\n",
    "price_info = requests.get(\"https://api.bithumb.com/public/ticker/\").json()['data']\n",
    "```"
   ]
  },
  {
   "cell_type": "code",
   "execution_count": null,
   "metadata": {},
   "outputs": [],
   "source": [
    "\n"
   ]
  },
  {
   "cell_type": "markdown",
   "metadata": {
    "ExecuteTime": {
     "end_time": "2021-03-09T14:07:26.623572Z",
     "start_time": "2021-03-09T14:07:26.613601Z"
    }
   },
   "source": [
    "- **Question:** 2개의 변수 x와 y를 변화시키는 반복문을 작성하시오. 출력되는 결과는 아래와 같고 x와 y가 함께 출력되어야 합니다.\n",
    "\n",
    "```python\n",
    "x = 3\n",
    "y = 10\n",
    "\n",
    "___________ or ______:\n",
    "    print(x, y)\n",
    "    __________\n",
    "    __________\n",
    "```\n",
    "\n",
    "```python\n",
    "3 10\n",
    "6 8\n",
    "12 6\n",
    "24 4\n",
    "48 2\n",
    "```"
   ]
  },
  {
   "cell_type": "code",
   "execution_count": 5,
   "metadata": {
    "ExecuteTime": {
     "end_time": "2022-04-03T14:27:49.754042Z",
     "start_time": "2022-04-03T14:27:49.740042Z"
    },
    "execution": {
     "iopub.execute_input": "2025-09-05T08:55:52.201424Z",
     "iopub.status.busy": "2025-09-05T08:55:52.201424Z",
     "iopub.status.idle": "2025-09-05T08:55:52.210722Z",
     "shell.execute_reply": "2025-09-05T08:55:52.209714Z",
     "shell.execute_reply.started": "2025-09-05T08:55:52.201424Z"
    }
   },
   "outputs": [],
   "source": [
    "x = 3\n",
    "y = 10\n",
    "\n",
    "# while \n"
   ]
  },
  {
   "cell_type": "markdown",
   "metadata": {},
   "source": [
    "- **Question:** 입력한 숫자까지 해당하는 짝수를 출력하시오\n",
    "\n",
    "```python\n",
    "count = int(input('반복할 횟수를 입력하세요: '))\n",
    " \n",
    "i = 0\n",
    "while True:\n",
    "    i = i + 1\n",
    "    __________\n",
    "        ______\n",
    "    __________\n",
    "        ______     \n",
    "```"
   ]
  },
  {
   "cell_type": "code",
   "execution_count": null,
   "metadata": {
    "ExecuteTime": {
     "end_time": "2021-10-06T06:50:25.872758Z",
     "start_time": "2021-10-06T06:50:23.150409Z"
    }
   },
   "outputs": [],
   "source": [
    "\n"
   ]
  },
  {
   "cell_type": "markdown",
   "metadata": {
    "ExecuteTime": {
     "end_time": "2021-10-01T15:02:16.156210Z",
     "start_time": "2021-10-01T14:58:41.842Z"
    }
   },
   "source": [
    "- **Question:** 0과 100사이의 숫자 중 끝자리가 9로 끝나는 숫자만 출력하시오\n",
    "\n",
    "```python\n",
    "i = 0\n",
    "while True:\n",
    "    if __________\n",
    "        __________\n",
    "        continue\n",
    "    if __________\n",
    "        break\n",
    "    print(i)\n",
    "    ____________\n",
    "```"
   ]
  },
  {
   "cell_type": "code",
   "execution_count": null,
   "metadata": {
    "ExecuteTime": {
     "end_time": "2021-10-06T06:54:26.610927Z",
     "start_time": "2021-10-06T06:54:26.600368Z"
    }
   },
   "outputs": [],
   "source": []
  },
  {
   "cell_type": "markdown",
   "metadata": {
    "ExecuteTime": {
     "end_time": "2021-03-09T14:07:26.924771Z",
     "start_time": "2021-03-09T14:07:26.910804Z"
    }
   },
   "source": [
    "- **Question:** for문과 if문을 사용하여 아래 리스트 각 요소들 중 30보다 작은 3의 배수만을 출력하시오\n",
    "\n",
    "```python\n",
    "x = [49, -17, 12, 102, 8, 60, 21]\n",
    "\n",
    "for __________:\n",
    "    print(__________)\n",
    "```"
   ]
  },
  {
   "cell_type": "code",
   "execution_count": 6,
   "metadata": {
    "ExecuteTime": {
     "end_time": "2022-04-03T14:27:50.074041Z",
     "start_time": "2022-04-03T14:27:50.061042Z"
    },
    "execution": {
     "iopub.execute_input": "2025-09-05T08:55:52.211721Z",
     "iopub.status.busy": "2025-09-05T08:55:52.211721Z",
     "iopub.status.idle": "2025-09-05T08:55:52.219229Z",
     "shell.execute_reply": "2025-09-05T08:55:52.218723Z",
     "shell.execute_reply.started": "2025-09-05T08:55:52.211721Z"
    }
   },
   "outputs": [],
   "source": [
    "x = [49, -17, 12, 102, 8, 60, 21]\n",
    "\n",
    "# for\n"
   ]
  },
  {
   "cell_type": "markdown",
   "metadata": {},
   "source": [
    "- **Question:** for문과 if~else문을 사용하여 아래 리스트 각 요소가 홀수인 경우 `10배`를 짝수인 경우 `-5배`를 출력하시오\n",
    "\n",
    "```python\n",
    "x = [1, 2, 3, 4, 5]\n",
    "\n",
    "for ______:\n",
    "    if ______:\n",
    "        ______\n",
    "        print(i)\n",
    "    else:\n",
    "        ______\n",
    "        print(i)\n",
    "```"
   ]
  },
  {
   "cell_type": "code",
   "execution_count": 7,
   "metadata": {
    "ExecuteTime": {
     "end_time": "2022-04-03T14:27:50.089040Z",
     "start_time": "2022-04-03T14:27:50.075043Z"
    },
    "execution": {
     "iopub.execute_input": "2025-09-05T08:55:52.220235Z",
     "iopub.status.busy": "2025-09-05T08:55:52.220235Z",
     "iopub.status.idle": "2025-09-05T08:55:52.228351Z",
     "shell.execute_reply": "2025-09-05T08:55:52.227344Z",
     "shell.execute_reply.started": "2025-09-05T08:55:52.220235Z"
    }
   },
   "outputs": [],
   "source": [
    "# 예상출력: 10 -10 30 -20 50\n",
    "x = [1, 2, 3, 4, 5]\n",
    "\n",
    "# for\n"
   ]
  },
  {
   "cell_type": "markdown",
   "metadata": {},
   "source": [
    "- **Question:** 총 10명의 학생 시험 점수가 있다. 60점이 합격 커트라인이라고 할때 10명의 학생이 합격인지 불합격인지 출력하는 프로그램을 작성하라. 학생의 이름은 1번부터 10번까지로 차례대로 부여하며 아래와 같은 결과가 출력되어야 한다.\n",
    "\n",
    "```python\n",
    "# 입력\n",
    "scores = [90, 25, 67, 45, 80, 45, 100, 67, 55, 90]\n",
    "\n",
    "# 프로그램\n",
    "\n",
    "# 출력\n",
    "1번 학생은 합격입니다.\n",
    "2번 학생은 불합격입니다.\n",
    "3번 학생은 합격입니다.\n",
    "4번 학생은 불합격입니다.\n",
    "5번 학생은 합격입니다.\n",
    "6번 학생은 불합격입니다.\n",
    "7번 학생은 합격입니다.\n",
    "8번 학생은 합격입니다.\n",
    "9번 학생은 불합격입니다.\n",
    "10번 학생은 합격입니다.\n",
    "```"
   ]
  },
  {
   "cell_type": "code",
   "execution_count": 8,
   "metadata": {
    "ExecuteTime": {
     "end_time": "2022-04-03T14:27:50.104041Z",
     "start_time": "2022-04-03T14:27:50.090042Z"
    },
    "execution": {
     "iopub.execute_input": "2025-09-05T08:55:52.230352Z",
     "iopub.status.busy": "2025-09-05T08:55:52.229351Z",
     "iopub.status.idle": "2025-09-05T08:55:52.236413Z",
     "shell.execute_reply": "2025-09-05T08:55:52.236413Z",
     "shell.execute_reply.started": "2025-09-05T08:55:52.230352Z"
    }
   },
   "outputs": [],
   "source": [
    "scores = [90, 25, 67, 45, 80, 45, 100, 67, 55, 90]\n",
    "\n"
   ]
  },
  {
   "cell_type": "markdown",
   "metadata": {},
   "source": [
    "- **Question:** 위 예를 참고하여 대각선 방향으로 별이 1개씩만 출력하시오"
   ]
  },
  {
   "cell_type": "code",
   "execution_count": null,
   "metadata": {
    "ExecuteTime": {
     "end_time": "2021-10-06T07:11:02.458941Z",
     "start_time": "2021-10-06T07:11:02.450293Z"
    }
   },
   "outputs": [],
   "source": [
    "\n"
   ]
  },
  {
   "cell_type": "markdown",
   "metadata": {},
   "source": [
    "- **Question:** 반복문을 2개 중첩하여 구구단 2단부터 9단까지 출력하는데 홀수번째만 출력하는 프로그램을 만드시오\n",
    "\n",
    "```python\n",
    "# 출력\n",
    "2 * 1 = 2\n",
    "2 * 3 = 6\n",
    "...\n",
    "9 * 7  = 63\n",
    "9 * 9 = 81\n",
    "```"
   ]
  },
  {
   "cell_type": "code",
   "execution_count": null,
   "metadata": {
    "ExecuteTime": {
     "end_time": "2021-12-08T00:32:02.111734Z",
     "start_time": "2021-12-08T00:32:02.104752Z"
    }
   },
   "outputs": [],
   "source": [
    "\n"
   ]
  },
  {
   "cell_type": "markdown",
   "metadata": {},
   "source": [
    "- **Question:** 1에서 50까지의 숫자를 출력하는데 아래와 같이 `3의 배수`, `5의 배수`, 그리고 `3과 5의 공배수`에서는 정해진 문자를 출력하시오\n",
    "\n",
    "1. 3의 배수는 `홀수입니다` 출력\n",
    "2. 5의 배수는 `나도 홀수입니다` 출력\n",
    "3. 3과 5의 공배수는 `나는뭐지?` 출력\n",
    "\n",
    "```python\n",
    "# 출력\n",
    "1\n",
    "2\n",
    "'홀수입니다'\n",
    "4\n",
    "'나도 홀수입니다'\n",
    "'홀수입니다'\n",
    "7\n",
    "...\n",
    "```"
   ]
  },
  {
   "cell_type": "code",
   "execution_count": null,
   "metadata": {},
   "outputs": [],
   "source": [
    "\n"
   ]
  },
  {
   "cell_type": "markdown",
   "metadata": {},
   "source": [
    "- **Question:** 다음 리스트 중 홀수에만 2를 곱하여 저장하는 코드가 있다 이를 `리스트 내포`를 사용하여 변환하라.\n",
    "\n",
    "```python\n",
    "# 입력\n",
    "numbers = [1, 2, 3, 4, 5]\n",
    "\n",
    "# 프로그램\n",
    "result = []\n",
    "for n in numbers:\n",
    "    if n % 2 == 1:\n",
    "        result.append(n*2)\n",
    "        \n",
    "# 출력\n",
    "# 예상결과: [2, 6, 10]\n",
    "result\n",
    "```"
   ]
  },
  {
   "cell_type": "code",
   "execution_count": 9,
   "metadata": {
    "ExecuteTime": {
     "end_time": "2022-04-03T14:27:50.314077Z",
     "start_time": "2022-04-03T14:27:50.300077Z"
    },
    "execution": {
     "iopub.execute_input": "2025-09-05T08:55:52.237419Z",
     "iopub.status.busy": "2025-09-05T08:55:52.237419Z",
     "iopub.status.idle": "2025-09-05T08:55:52.245304Z",
     "shell.execute_reply": "2025-09-05T08:55:52.245304Z",
     "shell.execute_reply.started": "2025-09-05T08:55:52.237419Z"
    }
   },
   "outputs": [],
   "source": [
    "# 입력\n",
    "numbers = [1, 2, 3, 4, 5]\n",
    "\n",
    "# 프로그램 및 출력\n",
    "# 예상결과: [2, 6, 10]\n",
    "\n"
   ]
  },
  {
   "cell_type": "markdown",
   "metadata": {},
   "source": [
    "- **Question:** 리스트 표현식을 사용하여 구구단을 출력하시오 리스트 내부 요소 출력 형식은 `2 * 1 = 2`"
   ]
  },
  {
   "cell_type": "code",
   "execution_count": null,
   "metadata": {
    "ExecuteTime": {
     "end_time": "2022-04-26T14:57:44.045653Z",
     "start_time": "2022-04-26T14:57:43.979653Z"
    }
   },
   "outputs": [],
   "source": [
    "\n"
   ]
  },
  {
   "cell_type": "code",
   "execution_count": 10,
   "metadata": {
    "ExecuteTime": {
     "end_time": "2022-04-04T04:08:42.717316Z",
     "start_time": "2022-04-04T04:08:42.705287Z"
    },
    "execution": {
     "iopub.execute_input": "2025-09-05T08:55:52.246309Z",
     "iopub.status.busy": "2025-09-05T08:55:52.246309Z",
     "iopub.status.idle": "2025-09-05T08:55:52.256652Z",
     "shell.execute_reply": "2025-09-05T08:55:52.256652Z",
     "shell.execute_reply.started": "2025-09-05T08:55:52.246309Z"
    }
   },
   "outputs": [
    {
     "name": "stdout",
     "output_type": "stream",
     "text": [
      "Intel64 Family 6 Model 186 Stepping 2, GenuineIntel\n",
      "32(GB)\n",
      "Windows\n",
      "10.0.26100\n",
      "C:\\DataScience\\Lecture\\[DataScience]\n",
      "2024-12-12 00:34:16.155373\n",
      "2025-09-05 17:55:26.446273\n",
      "2025-09-05 17:55:26.446273\n",
      "2025-09-05 17:55:52.254309\n",
      "다음 출력을 파일명으로 설정하고 제출하시오: 김경원_20211011_비즈니스혁신을위한데이터사이언스응용_1반_ConditionLoopQ\n"
     ]
    }
   ],
   "source": [
    "# 반드시 이 cell을 실행하시오\n",
    "# 실행하지 않을 시 직접 하지 않은 것으로 간주\n",
    "# 마지막 줄 출력으로 파일명을 설정하고 제출 필수\n",
    "import platform, psutil, os, datetime\n",
    "print(platform.processor())\n",
    "print(str(round(psutil.virtual_memory().total / (1024.0 **3)))+\"(GB)\")\n",
    "print(platform.system())\n",
    "print(platform.version())\n",
    "print(os.getcwd())\n",
    "print(datetime.datetime.fromtimestamp(os.path.getctime(os.getcwd())))\n",
    "print(datetime.datetime.fromtimestamp(os.path.getmtime(os.getcwd())))\n",
    "print(datetime.datetime.fromtimestamp(os.path.getatime(os.getcwd())))\n",
    "print(datetime.datetime.now())\n",
    "title = 'ConditionLoopQ'    # 고정값\n",
    "name = '김경원'    # 본인 이름을 작성\n",
    "studentid = '20211011'    # 본인 학번을 작성\n",
    "course = '비즈니스혁신을위한데이터사이언스응용'    # 'E정보시스템', 'E데이터베이스', '빅데이터', \n",
    "                          # '비즈니스혁신을위한데이터사이언스응용', '인공지능활용디지털경제플랫폼연구'\n",
    "course_number = '1반'    #  학수번호 끝자리 (아래 예시)\n",
    "                         # E정보시스템 (0003853001) => 1반\n",
    "                         # E정보시스템 (0003853001) => 2반\n",
    "                         # E데이터베이스 (0003854001) => 1반\n",
    "                         # E데이터베이스 (0003854002) => 2반\n",
    "                         # 빅데이터 (0006718001) => 1반\n",
    "                         # 비즈니스혁신을위한데이터사이언스응용 (1002667001) => 1반\n",
    "print('다음 출력을 파일명으로 설정하고 제출하시오:', name + '_' + studentid + '_' + course + '_' + course_number + '_' + title)"
   ]
  },
  {
   "cell_type": "markdown",
   "metadata": {},
   "source": [
    "<!-- ## str/list/tuple/dictionary 응용\n",
    "\n",
    "<!-- https://dojang.io/mod/page/view.php?id=2281 -->"
   ]
  }
 ],
 "metadata": {
  "hide_input": false,
  "kernelspec": {
   "display_name": "Python [conda env:base] *",
   "language": "python",
   "name": "conda-base-py"
  },
  "language_info": {
   "codemirror_mode": {
    "name": "ipython",
    "version": 3
   },
   "file_extension": ".py",
   "mimetype": "text/x-python",
   "name": "python",
   "nbconvert_exporter": "python",
   "pygments_lexer": "ipython3",
   "version": "3.13.5"
  },
  "toc": {
   "base_numbering": 1,
   "nav_menu": {},
   "number_sections": true,
   "sideBar": true,
   "skip_h1_title": false,
   "title_cell": "Table of Contents",
   "title_sidebar": "Contents",
   "toc_cell": false,
   "toc_position": {
    "height": "calc(100% - 180px)",
    "left": "10px",
    "top": "150px",
    "width": "308.292px"
   },
   "toc_section_display": true,
   "toc_window_display": true
  },
  "varInspector": {
   "cols": {
    "lenName": 16,
    "lenType": 16,
    "lenVar": 40
   },
   "kernels_config": {
    "python": {
     "delete_cmd_postfix": "",
     "delete_cmd_prefix": "del ",
     "library": "var_list.py",
     "varRefreshCmd": "print(var_dic_list())"
    },
    "r": {
     "delete_cmd_postfix": ") ",
     "delete_cmd_prefix": "rm(",
     "library": "var_list.r",
     "varRefreshCmd": "cat(var_dic_list()) "
    }
   },
   "position": {
    "height": "144.667px",
    "left": "1346.67px",
    "right": "20px",
    "top": "141px",
    "width": "350px"
   },
   "types_to_exclude": [
    "module",
    "function",
    "builtin_function_or_method",
    "instance",
    "_Feature"
   ],
   "window_display": false
  }
 },
 "nbformat": 4,
 "nbformat_minor": 4
}
